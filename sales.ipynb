{
 "cells": [
  {
   "cell_type": "code",
   "execution_count": 2,
   "id": "f010d5c5",
   "metadata": {},
   "outputs": [],
   "source": [
    "import pandas as pd\n",
    "import os"
   ]
  },
  {
   "cell_type": "markdown",
   "id": "9eba5ec9",
   "metadata": {},
   "source": [
    "### merging data"
   ]
  },
  {
   "cell_type": "code",
   "execution_count": 54,
   "id": "faebb9b8",
   "metadata": {},
   "outputs": [],
   "source": [
    "df = pd.read_csv('./Sales_Data/Sales_April_2019.csv')\n",
    "all_data = pd.DataFrame()"
   ]
  },
  {
   "cell_type": "code",
   "execution_count": 55,
   "id": "15bd4779",
   "metadata": {},
   "outputs": [
    {
     "name": "stdout",
     "output_type": "stream",
     "text": [
      "Sales_June_2019.csv\n",
      "Sales_July_2019.csv\n",
      "Sales_September_2019.csv\n",
      "Sales_January_2019.csv\n",
      "Sales_October_2019.csv\n",
      "Sales_November_2019.csv\n",
      "Sales_May_2019.csv\n",
      "Sales_August_2019.csv\n",
      "Sales_March_2019.csv\n",
      "Sales_February_2019.csv\n",
      "Sales_April_2019.csv\n",
      "Sales_December_2019.csv\n"
     ]
    }
   ],
   "source": [
    "files = [file for file in os.listdir('./Sales_Data')]\n",
    "\n",
    "for file in reversed(files):\n",
    "    df = pd.read_csv('./Sales_Data/' + file)\n",
    "    all_data = pd.concat([all_data, df])\n",
    "    print(file)\n",
    "\n",
    "all_data.to_csv('all_data.csv', index=False)"
   ]
  },
  {
   "cell_type": "markdown",
   "id": "b410ed49",
   "metadata": {},
   "source": [
    "### updated data"
   ]
  },
  {
   "cell_type": "code",
   "execution_count": 3,
   "id": "b187cabb",
   "metadata": {},
   "outputs": [
    {
     "data": {
      "text/html": [
       "<div>\n",
       "<style scoped>\n",
       "    .dataframe tbody tr th:only-of-type {\n",
       "        vertical-align: middle;\n",
       "    }\n",
       "\n",
       "    .dataframe tbody tr th {\n",
       "        vertical-align: top;\n",
       "    }\n",
       "\n",
       "    .dataframe thead th {\n",
       "        text-align: right;\n",
       "    }\n",
       "</style>\n",
       "<table border=\"1\" class=\"dataframe\">\n",
       "  <thead>\n",
       "    <tr style=\"text-align: right;\">\n",
       "      <th></th>\n",
       "      <th>Order ID</th>\n",
       "      <th>Product</th>\n",
       "      <th>Quantity Ordered</th>\n",
       "      <th>Price Each</th>\n",
       "      <th>Order Date</th>\n",
       "      <th>Purchase Address</th>\n",
       "    </tr>\n",
       "  </thead>\n",
       "  <tbody>\n",
       "    <tr>\n",
       "      <th>0</th>\n",
       "      <td>209921</td>\n",
       "      <td>USB-C Charging Cable</td>\n",
       "      <td>1</td>\n",
       "      <td>11.95</td>\n",
       "      <td>06/23/19 19:34</td>\n",
       "      <td>950 Walnut St, Portland, ME 04101</td>\n",
       "    </tr>\n",
       "    <tr>\n",
       "      <th>1</th>\n",
       "      <td>209922</td>\n",
       "      <td>Macbook Pro Laptop</td>\n",
       "      <td>1</td>\n",
       "      <td>1700.0</td>\n",
       "      <td>06/30/19 10:05</td>\n",
       "      <td>80 4th St, San Francisco, CA 94016</td>\n",
       "    </tr>\n",
       "    <tr>\n",
       "      <th>2</th>\n",
       "      <td>209923</td>\n",
       "      <td>ThinkPad Laptop</td>\n",
       "      <td>1</td>\n",
       "      <td>999.99</td>\n",
       "      <td>06/24/19 20:18</td>\n",
       "      <td>402 Jackson St, Los Angeles, CA 90001</td>\n",
       "    </tr>\n",
       "    <tr>\n",
       "      <th>3</th>\n",
       "      <td>209924</td>\n",
       "      <td>27in FHD Monitor</td>\n",
       "      <td>1</td>\n",
       "      <td>149.99</td>\n",
       "      <td>06/05/19 10:21</td>\n",
       "      <td>560 10th St, Seattle, WA 98101</td>\n",
       "    </tr>\n",
       "    <tr>\n",
       "      <th>4</th>\n",
       "      <td>209925</td>\n",
       "      <td>Bose SoundSport Headphones</td>\n",
       "      <td>1</td>\n",
       "      <td>99.99</td>\n",
       "      <td>06/25/19 18:58</td>\n",
       "      <td>545 2nd St, San Francisco, CA 94016</td>\n",
       "    </tr>\n",
       "  </tbody>\n",
       "</table>\n",
       "</div>"
      ],
      "text/plain": [
       "  Order ID                     Product Quantity Ordered Price Each  \\\n",
       "0   209921        USB-C Charging Cable                1      11.95   \n",
       "1   209922          Macbook Pro Laptop                1     1700.0   \n",
       "2   209923             ThinkPad Laptop                1     999.99   \n",
       "3   209924            27in FHD Monitor                1     149.99   \n",
       "4   209925  Bose SoundSport Headphones                1      99.99   \n",
       "\n",
       "       Order Date                       Purchase Address  \n",
       "0  06/23/19 19:34      950 Walnut St, Portland, ME 04101  \n",
       "1  06/30/19 10:05     80 4th St, San Francisco, CA 94016  \n",
       "2  06/24/19 20:18  402 Jackson St, Los Angeles, CA 90001  \n",
       "3  06/05/19 10:21         560 10th St, Seattle, WA 98101  \n",
       "4  06/25/19 18:58    545 2nd St, San Francisco, CA 94016  "
      ]
     },
     "execution_count": 3,
     "metadata": {},
     "output_type": "execute_result"
    }
   ],
   "source": [
    "all_data = pd.read_csv('all_data.csv')\n",
    "all_data.head()"
   ]
  },
  {
   "cell_type": "markdown",
   "id": "ee1914e2",
   "metadata": {},
   "source": [
    "### cleanup data\n"
   ]
  },
  {
   "cell_type": "code",
   "execution_count": 4,
   "id": "3820ed62",
   "metadata": {},
   "outputs": [],
   "source": [
    "###REMOVE NAN VALUES####\n",
    "nan_data = all_data[all_data.isna().any(axis=1)]\n",
    "all_data = all_data.dropna(how='any')"
   ]
  },
  {
   "cell_type": "code",
   "execution_count": 5,
   "id": "af1328aa",
   "metadata": {},
   "outputs": [],
   "source": [
    "###REMOVE 'OR' ####\n",
    "all_data = all_data[all_data['Order Date'].str[0:2] != 'Or']"
   ]
  },
  {
   "cell_type": "code",
   "execution_count": 6,
   "id": "c0e37b48",
   "metadata": {},
   "outputs": [],
   "source": [
    "###VALUES TO WANTED TYPE\n",
    "all_data['Quantity Ordered'] = pd.to_numeric(all_data['Quantity Ordered'])\n",
    "all_data['Price Each'] = pd.to_numeric(all_data['Price Each'])"
   ]
  },
  {
   "cell_type": "markdown",
   "id": "37c95c65",
   "metadata": {},
   "source": [
    "### adding month column"
   ]
  },
  {
   "cell_type": "code",
   "execution_count": 7,
   "id": "a4ea2d2b",
   "metadata": {},
   "outputs": [],
   "source": [
    "all_data['Month'] = all_data['Order Date'].str[0:2]"
   ]
  },
  {
   "cell_type": "code",
   "execution_count": 8,
   "id": "8505415b",
   "metadata": {},
   "outputs": [
    {
     "data": {
      "text/html": [
       "<div>\n",
       "<style scoped>\n",
       "    .dataframe tbody tr th:only-of-type {\n",
       "        vertical-align: middle;\n",
       "    }\n",
       "\n",
       "    .dataframe tbody tr th {\n",
       "        vertical-align: top;\n",
       "    }\n",
       "\n",
       "    .dataframe thead th {\n",
       "        text-align: right;\n",
       "    }\n",
       "</style>\n",
       "<table border=\"1\" class=\"dataframe\">\n",
       "  <thead>\n",
       "    <tr style=\"text-align: right;\">\n",
       "      <th></th>\n",
       "      <th>Order ID</th>\n",
       "      <th>Product</th>\n",
       "      <th>Quantity Ordered</th>\n",
       "      <th>Price Each</th>\n",
       "      <th>Order Date</th>\n",
       "      <th>Purchase Address</th>\n",
       "      <th>Month</th>\n",
       "    </tr>\n",
       "  </thead>\n",
       "  <tbody>\n",
       "    <tr>\n",
       "      <th>0</th>\n",
       "      <td>209921</td>\n",
       "      <td>USB-C Charging Cable</td>\n",
       "      <td>1</td>\n",
       "      <td>11.95</td>\n",
       "      <td>06/23/19 19:34</td>\n",
       "      <td>950 Walnut St, Portland, ME 04101</td>\n",
       "      <td>6</td>\n",
       "    </tr>\n",
       "    <tr>\n",
       "      <th>1</th>\n",
       "      <td>209922</td>\n",
       "      <td>Macbook Pro Laptop</td>\n",
       "      <td>1</td>\n",
       "      <td>1700.00</td>\n",
       "      <td>06/30/19 10:05</td>\n",
       "      <td>80 4th St, San Francisco, CA 94016</td>\n",
       "      <td>6</td>\n",
       "    </tr>\n",
       "    <tr>\n",
       "      <th>2</th>\n",
       "      <td>209923</td>\n",
       "      <td>ThinkPad Laptop</td>\n",
       "      <td>1</td>\n",
       "      <td>999.99</td>\n",
       "      <td>06/24/19 20:18</td>\n",
       "      <td>402 Jackson St, Los Angeles, CA 90001</td>\n",
       "      <td>6</td>\n",
       "    </tr>\n",
       "    <tr>\n",
       "      <th>3</th>\n",
       "      <td>209924</td>\n",
       "      <td>27in FHD Monitor</td>\n",
       "      <td>1</td>\n",
       "      <td>149.99</td>\n",
       "      <td>06/05/19 10:21</td>\n",
       "      <td>560 10th St, Seattle, WA 98101</td>\n",
       "      <td>6</td>\n",
       "    </tr>\n",
       "    <tr>\n",
       "      <th>4</th>\n",
       "      <td>209925</td>\n",
       "      <td>Bose SoundSport Headphones</td>\n",
       "      <td>1</td>\n",
       "      <td>99.99</td>\n",
       "      <td>06/25/19 18:58</td>\n",
       "      <td>545 2nd St, San Francisco, CA 94016</td>\n",
       "      <td>6</td>\n",
       "    </tr>\n",
       "  </tbody>\n",
       "</table>\n",
       "</div>"
      ],
      "text/plain": [
       "  Order ID                     Product  Quantity Ordered  Price Each  \\\n",
       "0   209921        USB-C Charging Cable                 1       11.95   \n",
       "1   209922          Macbook Pro Laptop                 1     1700.00   \n",
       "2   209923             ThinkPad Laptop                 1      999.99   \n",
       "3   209924            27in FHD Monitor                 1      149.99   \n",
       "4   209925  Bose SoundSport Headphones                 1       99.99   \n",
       "\n",
       "       Order Date                       Purchase Address  Month  \n",
       "0  06/23/19 19:34      950 Walnut St, Portland, ME 04101      6  \n",
       "1  06/30/19 10:05     80 4th St, San Francisco, CA 94016      6  \n",
       "2  06/24/19 20:18  402 Jackson St, Los Angeles, CA 90001      6  \n",
       "3  06/05/19 10:21         560 10th St, Seattle, WA 98101      6  \n",
       "4  06/25/19 18:58    545 2nd St, San Francisco, CA 94016      6  "
      ]
     },
     "execution_count": 8,
     "metadata": {},
     "output_type": "execute_result"
    }
   ],
   "source": [
    "all_data['Month'] = all_data['Month'].astype('int32')\n",
    "all_data.head()"
   ]
  },
  {
   "cell_type": "markdown",
   "id": "992c075c",
   "metadata": {},
   "source": [
    "### adding sales column"
   ]
  },
  {
   "cell_type": "code",
   "execution_count": 9,
   "id": "abfaa7a3",
   "metadata": {},
   "outputs": [
    {
     "data": {
      "text/html": [
       "<div>\n",
       "<style scoped>\n",
       "    .dataframe tbody tr th:only-of-type {\n",
       "        vertical-align: middle;\n",
       "    }\n",
       "\n",
       "    .dataframe tbody tr th {\n",
       "        vertical-align: top;\n",
       "    }\n",
       "\n",
       "    .dataframe thead th {\n",
       "        text-align: right;\n",
       "    }\n",
       "</style>\n",
       "<table border=\"1\" class=\"dataframe\">\n",
       "  <thead>\n",
       "    <tr style=\"text-align: right;\">\n",
       "      <th></th>\n",
       "      <th>Order ID</th>\n",
       "      <th>Product</th>\n",
       "      <th>Quantity Ordered</th>\n",
       "      <th>Price Each</th>\n",
       "      <th>Order Date</th>\n",
       "      <th>Purchase Address</th>\n",
       "      <th>Month</th>\n",
       "      <th>Sales</th>\n",
       "    </tr>\n",
       "  </thead>\n",
       "  <tbody>\n",
       "    <tr>\n",
       "      <th>0</th>\n",
       "      <td>209921</td>\n",
       "      <td>USB-C Charging Cable</td>\n",
       "      <td>1</td>\n",
       "      <td>11.95</td>\n",
       "      <td>06/23/19 19:34</td>\n",
       "      <td>950 Walnut St, Portland, ME 04101</td>\n",
       "      <td>6</td>\n",
       "      <td>11.95</td>\n",
       "    </tr>\n",
       "    <tr>\n",
       "      <th>1</th>\n",
       "      <td>209922</td>\n",
       "      <td>Macbook Pro Laptop</td>\n",
       "      <td>1</td>\n",
       "      <td>1700.00</td>\n",
       "      <td>06/30/19 10:05</td>\n",
       "      <td>80 4th St, San Francisco, CA 94016</td>\n",
       "      <td>6</td>\n",
       "      <td>1700.00</td>\n",
       "    </tr>\n",
       "    <tr>\n",
       "      <th>2</th>\n",
       "      <td>209923</td>\n",
       "      <td>ThinkPad Laptop</td>\n",
       "      <td>1</td>\n",
       "      <td>999.99</td>\n",
       "      <td>06/24/19 20:18</td>\n",
       "      <td>402 Jackson St, Los Angeles, CA 90001</td>\n",
       "      <td>6</td>\n",
       "      <td>999.99</td>\n",
       "    </tr>\n",
       "    <tr>\n",
       "      <th>3</th>\n",
       "      <td>209924</td>\n",
       "      <td>27in FHD Monitor</td>\n",
       "      <td>1</td>\n",
       "      <td>149.99</td>\n",
       "      <td>06/05/19 10:21</td>\n",
       "      <td>560 10th St, Seattle, WA 98101</td>\n",
       "      <td>6</td>\n",
       "      <td>149.99</td>\n",
       "    </tr>\n",
       "    <tr>\n",
       "      <th>4</th>\n",
       "      <td>209925</td>\n",
       "      <td>Bose SoundSport Headphones</td>\n",
       "      <td>1</td>\n",
       "      <td>99.99</td>\n",
       "      <td>06/25/19 18:58</td>\n",
       "      <td>545 2nd St, San Francisco, CA 94016</td>\n",
       "      <td>6</td>\n",
       "      <td>99.99</td>\n",
       "    </tr>\n",
       "  </tbody>\n",
       "</table>\n",
       "</div>"
      ],
      "text/plain": [
       "  Order ID                     Product  Quantity Ordered  Price Each  \\\n",
       "0   209921        USB-C Charging Cable                 1       11.95   \n",
       "1   209922          Macbook Pro Laptop                 1     1700.00   \n",
       "2   209923             ThinkPad Laptop                 1      999.99   \n",
       "3   209924            27in FHD Monitor                 1      149.99   \n",
       "4   209925  Bose SoundSport Headphones                 1       99.99   \n",
       "\n",
       "       Order Date                       Purchase Address  Month    Sales  \n",
       "0  06/23/19 19:34      950 Walnut St, Portland, ME 04101      6    11.95  \n",
       "1  06/30/19 10:05     80 4th St, San Francisco, CA 94016      6  1700.00  \n",
       "2  06/24/19 20:18  402 Jackson St, Los Angeles, CA 90001      6   999.99  \n",
       "3  06/05/19 10:21         560 10th St, Seattle, WA 98101      6   149.99  \n",
       "4  06/25/19 18:58    545 2nd St, San Francisco, CA 94016      6    99.99  "
      ]
     },
     "execution_count": 9,
     "metadata": {},
     "output_type": "execute_result"
    }
   ],
   "source": [
    "all_data['Sales'] = all_data['Price Each'] * all_data['Quantity Ordered']\n",
    "#print(type(all_data.iloc[3]['Price Each']))\n",
    "all_data.head()"
   ]
  },
  {
   "cell_type": "markdown",
   "id": "c555e664",
   "metadata": {},
   "source": [
    "# TASK 1: best selling month"
   ]
  },
  {
   "cell_type": "code",
   "execution_count": 10,
   "id": "42cadb98",
   "metadata": {},
   "outputs": [
    {
     "name": "stderr",
     "output_type": "stream",
     "text": [
      "/var/folders/vc/3fbsdlsd04b7nplvx9m1rhcw0000gn/T/ipykernel_66591/2994503774.py:1: FutureWarning: The default value of numeric_only in DataFrameGroupBy.sum is deprecated. In a future version, numeric_only will default to False. Either specify numeric_only or select only columns which should be valid for the function.\n",
      "  results = all_data.groupby('Month').sum()['Sales']\n"
     ]
    },
    {
     "data": {
      "text/plain": [
       "Month\n",
       "1     1822256.73\n",
       "2     2202022.42\n",
       "3     2807100.38\n",
       "4     3390670.24\n",
       "5     3152606.75\n",
       "6     2577802.26\n",
       "7     2647775.76\n",
       "8     2244467.88\n",
       "9     2097560.13\n",
       "10    3736726.88\n",
       "11    3199603.20\n",
       "12    4613443.34\n",
       "Name: Sales, dtype: float64"
      ]
     },
     "execution_count": 10,
     "metadata": {},
     "output_type": "execute_result"
    }
   ],
   "source": [
    "results = all_data.groupby('Month').sum()['Sales']\n",
    "results"
   ]
  },
  {
   "cell_type": "code",
   "execution_count": 11,
   "id": "5be10829",
   "metadata": {},
   "outputs": [
    {
     "data": {
      "image/png": "[encoded data removed]",
      "text/plain": [
       "<Figure size 640x480 with 1 Axes>"
      ]
     },
     "metadata": {},
     "output_type": "display_data"
    }
   ],
   "source": [
    "import matplotlib.pyplot as plt\n",
    "\n",
    "months = range(1,13)\n",
    "\n",
    "plt.bar(months, results)\n",
    "plt.xticks(months)\n",
    "plt.ylabel('sales in USD$')\n",
    "plt.xlabel('months')\n",
    "plt.show()"
   ]
  },
  {
   "cell_type": "markdown",
   "id": "bb28b2bc",
   "metadata": {},
   "source": [
    "# Task 2: what city sold the most"
   ]
  },
  {
   "cell_type": "markdown",
   "id": "50b916cd",
   "metadata": {},
   "source": [
    "### add a city column"
   ]
  },
  {
   "cell_type": "code",
   "execution_count": 12,
   "id": "c271272c",
   "metadata": {},
   "outputs": [
    {
     "data": {
      "text/html": [
       "<div>\n",
       "<style scoped>\n",
       "    .dataframe tbody tr th:only-of-type {\n",
       "        vertical-align: middle;\n",
       "    }\n",
       "\n",
       "    .dataframe tbody tr th {\n",
       "        vertical-align: top;\n",
       "    }\n",
       "\n",
       "    .dataframe thead th {\n",
       "        text-align: right;\n",
       "    }\n",
       "</style>\n",
       "<table border=\"1\" class=\"dataframe\">\n",
       "  <thead>\n",
       "    <tr style=\"text-align: right;\">\n",
       "      <th></th>\n",
       "      <th>Order ID</th>\n",
       "      <th>Product</th>\n",
       "      <th>Quantity Ordered</th>\n",
       "      <th>Price Each</th>\n",
       "      <th>Order Date</th>\n",
       "      <th>Purchase Address</th>\n",
       "      <th>Month</th>\n",
       "      <th>Sales</th>\n",
       "      <th>City</th>\n",
       "    </tr>\n",
       "  </thead>\n",
       "  <tbody>\n",
       "    <tr>\n",
       "      <th>0</th>\n",
       "      <td>209921</td>\n",
       "      <td>USB-C Charging Cable</td>\n",
       "      <td>1</td>\n",
       "      <td>11.95</td>\n",
       "      <td>06/23/19 19:34</td>\n",
       "      <td>950 Walnut St, Portland, ME 04101</td>\n",
       "      <td>6</td>\n",
       "      <td>11.95</td>\n",
       "      <td>Portland(ME)</td>\n",
       "    </tr>\n",
       "    <tr>\n",
       "      <th>1</th>\n",
       "      <td>209922</td>\n",
       "      <td>Macbook Pro Laptop</td>\n",
       "      <td>1</td>\n",
       "      <td>1700.00</td>\n",
       "      <td>06/30/19 10:05</td>\n",
       "      <td>80 4th St, San Francisco, CA 94016</td>\n",
       "      <td>6</td>\n",
       "      <td>1700.00</td>\n",
       "      <td>San Francisco(CA)</td>\n",
       "    </tr>\n",
       "    <tr>\n",
       "      <th>2</th>\n",
       "      <td>209923</td>\n",
       "      <td>ThinkPad Laptop</td>\n",
       "      <td>1</td>\n",
       "      <td>999.99</td>\n",
       "      <td>06/24/19 20:18</td>\n",
       "      <td>402 Jackson St, Los Angeles, CA 90001</td>\n",
       "      <td>6</td>\n",
       "      <td>999.99</td>\n",
       "      <td>Los Angeles(CA)</td>\n",
       "    </tr>\n",
       "    <tr>\n",
       "      <th>3</th>\n",
       "      <td>209924</td>\n",
       "      <td>27in FHD Monitor</td>\n",
       "      <td>1</td>\n",
       "      <td>149.99</td>\n",
       "      <td>06/05/19 10:21</td>\n",
       "      <td>560 10th St, Seattle, WA 98101</td>\n",
       "      <td>6</td>\n",
       "      <td>149.99</td>\n",
       "      <td>Seattle(WA)</td>\n",
       "    </tr>\n",
       "    <tr>\n",
       "      <th>4</th>\n",
       "      <td>209925</td>\n",
       "      <td>Bose SoundSport Headphones</td>\n",
       "      <td>1</td>\n",
       "      <td>99.99</td>\n",
       "      <td>06/25/19 18:58</td>\n",
       "      <td>545 2nd St, San Francisco, CA 94016</td>\n",
       "      <td>6</td>\n",
       "      <td>99.99</td>\n",
       "      <td>San Francisco(CA)</td>\n",
       "    </tr>\n",
       "  </tbody>\n",
       "</table>\n",
       "</div>"
      ],
      "text/plain": [
       "  Order ID                     Product  Quantity Ordered  Price Each  \\\n",
       "0   209921        USB-C Charging Cable                 1       11.95   \n",
       "1   209922          Macbook Pro Laptop                 1     1700.00   \n",
       "2   209923             ThinkPad Laptop                 1      999.99   \n",
       "3   209924            27in FHD Monitor                 1      149.99   \n",
       "4   209925  Bose SoundSport Headphones                 1       99.99   \n",
       "\n",
       "       Order Date                       Purchase Address  Month    Sales  \\\n",
       "0  06/23/19 19:34      950 Walnut St, Portland, ME 04101      6    11.95   \n",
       "1  06/30/19 10:05     80 4th St, San Francisco, CA 94016      6  1700.00   \n",
       "2  06/24/19 20:18  402 Jackson St, Los Angeles, CA 90001      6   999.99   \n",
       "3  06/05/19 10:21         560 10th St, Seattle, WA 98101      6   149.99   \n",
       "4  06/25/19 18:58    545 2nd St, San Francisco, CA 94016      6    99.99   \n",
       "\n",
       "                 City  \n",
       "0        Portland(ME)  \n",
       "1   San Francisco(CA)  \n",
       "2     Los Angeles(CA)  \n",
       "3         Seattle(WA)  \n",
       "4   San Francisco(CA)  "
      ]
     },
     "execution_count": 12,
     "metadata": {},
     "output_type": "execute_result"
    }
   ],
   "source": [
    "#use apply method from pandas\n",
    "def get_city(address):\n",
    "    return address.split(',')[1]\n",
    "def get_state(address):\n",
    "    return address.split(',')[2].split(' ')[1]\n",
    "\n",
    "all_data['City'] = all_data['Purchase Address'].apply(lambda x: get_city(x) + '(' + get_state(x) + ')')\n",
    "all_data.head()\n",
    "    "
   ]
  },
  {
   "cell_type": "code",
   "execution_count": 13,
   "id": "8bcb1f8c",
   "metadata": {},
   "outputs": [
    {
     "name": "stderr",
     "output_type": "stream",
     "text": [
      "/var/folders/vc/3fbsdlsd04b7nplvx9m1rhcw0000gn/T/ipykernel_66591/2713997451.py:1: FutureWarning: The default value of numeric_only in DataFrameGroupBy.sum is deprecated. In a future version, numeric_only will default to False. Either specify numeric_only or select only columns which should be valid for the function.\n",
      "  results = all_data.groupby('City').sum()['Sales']\n"
     ]
    },
    {
     "data": {
      "text/plain": [
       "City\n",
       " Atlanta(GA)          2795498.58\n",
       " Austin(TX)           1819581.75\n",
       " Boston(MA)           3661642.01\n",
       " Dallas(TX)           2767975.40\n",
       " Los Angeles(CA)      5452570.80\n",
       " New York City(NY)    4664317.43\n",
       " Portland(ME)          449758.27\n",
       " Portland(OR)         1870732.34\n",
       " San Francisco(CA)    8262203.91\n",
       " Seattle(WA)          2747755.48\n",
       "Name: Sales, dtype: float64"
      ]
     },
     "execution_count": 13,
     "metadata": {},
     "output_type": "execute_result"
    }
   ],
   "source": [
    "results = all_data.groupby('City').sum()['Sales']\n",
    "results"
   ]
  },
  {
   "cell_type": "code",
   "execution_count": 14,
   "id": "ecc7d2fa",
   "metadata": {},
   "outputs": [
    {
     "data": {
      "image/png": "[encoded data removed]",
      "text/plain": [
       "<Figure size 640x480 with 1 Axes>"
      ]
     },
     "metadata": {},
     "output_type": "display_data"
    }
   ],
   "source": [
    "import matplotlib.pyplot as plt\n",
    "\n",
    "cities = [city for city, df in all_data.groupby('City')]\n",
    "\n",
    "plt.bar(cities, results)\n",
    "plt.xticks(cities, rotation = 'vertical', size=8)\n",
    "plt.ylabel('sales in USD$')\n",
    "plt.xlabel('cities')\n",
    "plt.show()"
   ]
  },
  {
   "cell_type": "markdown",
   "id": "5b23a9da",
   "metadata": {},
   "source": [
    "# TASK 3: best time to dispaly advertisement in order to maximize sales\n"
   ]
  },
  {
   "cell_type": "code",
   "execution_count": 15,
   "id": "524fc0a8",
   "metadata": {},
   "outputs": [
    {
     "data": {
      "text/html": [
       "<div>\n",
       "<style scoped>\n",
       "    .dataframe tbody tr th:only-of-type {\n",
       "        vertical-align: middle;\n",
       "    }\n",
       "\n",
       "    .dataframe tbody tr th {\n",
       "        vertical-align: top;\n",
       "    }\n",
       "\n",
       "    .dataframe thead th {\n",
       "        text-align: right;\n",
       "    }\n",
       "</style>\n",
       "<table border=\"1\" class=\"dataframe\">\n",
       "  <thead>\n",
       "    <tr style=\"text-align: right;\">\n",
       "      <th></th>\n",
       "      <th>Order ID</th>\n",
       "      <th>Product</th>\n",
       "      <th>Quantity Ordered</th>\n",
       "      <th>Price Each</th>\n",
       "      <th>Order Date</th>\n",
       "      <th>Purchase Address</th>\n",
       "      <th>Month</th>\n",
       "      <th>Sales</th>\n",
       "      <th>City</th>\n",
       "    </tr>\n",
       "  </thead>\n",
       "  <tbody>\n",
       "    <tr>\n",
       "      <th>0</th>\n",
       "      <td>209921</td>\n",
       "      <td>USB-C Charging Cable</td>\n",
       "      <td>1</td>\n",
       "      <td>11.95</td>\n",
       "      <td>06/23/19 19:34</td>\n",
       "      <td>950 Walnut St, Portland, ME 04101</td>\n",
       "      <td>6</td>\n",
       "      <td>11.95</td>\n",
       "      <td>Portland(ME)</td>\n",
       "    </tr>\n",
       "    <tr>\n",
       "      <th>1</th>\n",
       "      <td>209922</td>\n",
       "      <td>Macbook Pro Laptop</td>\n",
       "      <td>1</td>\n",
       "      <td>1700.00</td>\n",
       "      <td>06/30/19 10:05</td>\n",
       "      <td>80 4th St, San Francisco, CA 94016</td>\n",
       "      <td>6</td>\n",
       "      <td>1700.00</td>\n",
       "      <td>San Francisco(CA)</td>\n",
       "    </tr>\n",
       "    <tr>\n",
       "      <th>2</th>\n",
       "      <td>209923</td>\n",
       "      <td>ThinkPad Laptop</td>\n",
       "      <td>1</td>\n",
       "      <td>999.99</td>\n",
       "      <td>06/24/19 20:18</td>\n",
       "      <td>402 Jackson St, Los Angeles, CA 90001</td>\n",
       "      <td>6</td>\n",
       "      <td>999.99</td>\n",
       "      <td>Los Angeles(CA)</td>\n",
       "    </tr>\n",
       "    <tr>\n",
       "      <th>3</th>\n",
       "      <td>209924</td>\n",
       "      <td>27in FHD Monitor</td>\n",
       "      <td>1</td>\n",
       "      <td>149.99</td>\n",
       "      <td>06/05/19 10:21</td>\n",
       "      <td>560 10th St, Seattle, WA 98101</td>\n",
       "      <td>6</td>\n",
       "      <td>149.99</td>\n",
       "      <td>Seattle(WA)</td>\n",
       "    </tr>\n",
       "    <tr>\n",
       "      <th>4</th>\n",
       "      <td>209925</td>\n",
       "      <td>Bose SoundSport Headphones</td>\n",
       "      <td>1</td>\n",
       "      <td>99.99</td>\n",
       "      <td>06/25/19 18:58</td>\n",
       "      <td>545 2nd St, San Francisco, CA 94016</td>\n",
       "      <td>6</td>\n",
       "      <td>99.99</td>\n",
       "      <td>San Francisco(CA)</td>\n",
       "    </tr>\n",
       "  </tbody>\n",
       "</table>\n",
       "</div>"
      ],
      "text/plain": [
       "  Order ID                     Product  Quantity Ordered  Price Each  \\\n",
       "0   209921        USB-C Charging Cable                 1       11.95   \n",
       "1   209922          Macbook Pro Laptop                 1     1700.00   \n",
       "2   209923             ThinkPad Laptop                 1      999.99   \n",
       "3   209924            27in FHD Monitor                 1      149.99   \n",
       "4   209925  Bose SoundSport Headphones                 1       99.99   \n",
       "\n",
       "       Order Date                       Purchase Address  Month    Sales  \\\n",
       "0  06/23/19 19:34      950 Walnut St, Portland, ME 04101      6    11.95   \n",
       "1  06/30/19 10:05     80 4th St, San Francisco, CA 94016      6  1700.00   \n",
       "2  06/24/19 20:18  402 Jackson St, Los Angeles, CA 90001      6   999.99   \n",
       "3  06/05/19 10:21         560 10th St, Seattle, WA 98101      6   149.99   \n",
       "4  06/25/19 18:58    545 2nd St, San Francisco, CA 94016      6    99.99   \n",
       "\n",
       "                 City  \n",
       "0        Portland(ME)  \n",
       "1   San Francisco(CA)  \n",
       "2     Los Angeles(CA)  \n",
       "3         Seattle(WA)  \n",
       "4   San Francisco(CA)  "
      ]
     },
     "execution_count": 15,
     "metadata": {},
     "output_type": "execute_result"
    }
   ],
   "source": [
    "all_data.head()"
   ]
  },
  {
   "cell_type": "code",
   "execution_count": 16,
   "id": "1fbd5c1a",
   "metadata": {},
   "outputs": [],
   "source": [
    "all_data['Order Date'] = pd.to_datetime(all_data['Order Date'])"
   ]
  },
  {
   "cell_type": "code",
   "execution_count": 17,
   "id": "2eb2efaf",
   "metadata": {},
   "outputs": [
    {
     "data": {
      "text/html": [
       "<div>\n",
       "<style scoped>\n",
       "    .dataframe tbody tr th:only-of-type {\n",
       "        vertical-align: middle;\n",
       "    }\n",
       "\n",
       "    .dataframe tbody tr th {\n",
       "        vertical-align: top;\n",
       "    }\n",
       "\n",
       "    .dataframe thead th {\n",
       "        text-align: right;\n",
       "    }\n",
       "</style>\n",
       "<table border=\"1\" class=\"dataframe\">\n",
       "  <thead>\n",
       "    <tr style=\"text-align: right;\">\n",
       "      <th></th>\n",
       "      <th>Order ID</th>\n",
       "      <th>Product</th>\n",
       "      <th>Quantity Ordered</th>\n",
       "      <th>Price Each</th>\n",
       "      <th>Order Date</th>\n",
       "      <th>Purchase Address</th>\n",
       "      <th>Month</th>\n",
       "      <th>Sales</th>\n",
       "      <th>City</th>\n",
       "      <th>Hour</th>\n",
       "      <th>Minute</th>\n",
       "    </tr>\n",
       "  </thead>\n",
       "  <tbody>\n",
       "    <tr>\n",
       "      <th>0</th>\n",
       "      <td>209921</td>\n",
       "      <td>USB-C Charging Cable</td>\n",
       "      <td>1</td>\n",
       "      <td>11.95</td>\n",
       "      <td>2019-06-23 19:34:00</td>\n",
       "      <td>950 Walnut St, Portland, ME 04101</td>\n",
       "      <td>6</td>\n",
       "      <td>11.95</td>\n",
       "      <td>Portland(ME)</td>\n",
       "      <td>19</td>\n",
       "      <td>34</td>\n",
       "    </tr>\n",
       "    <tr>\n",
       "      <th>1</th>\n",
       "      <td>209922</td>\n",
       "      <td>Macbook Pro Laptop</td>\n",
       "      <td>1</td>\n",
       "      <td>1700.00</td>\n",
       "      <td>2019-06-30 10:05:00</td>\n",
       "      <td>80 4th St, San Francisco, CA 94016</td>\n",
       "      <td>6</td>\n",
       "      <td>1700.00</td>\n",
       "      <td>San Francisco(CA)</td>\n",
       "      <td>10</td>\n",
       "      <td>5</td>\n",
       "    </tr>\n",
       "    <tr>\n",
       "      <th>2</th>\n",
       "      <td>209923</td>\n",
       "      <td>ThinkPad Laptop</td>\n",
       "      <td>1</td>\n",
       "      <td>999.99</td>\n",
       "      <td>2019-06-24 20:18:00</td>\n",
       "      <td>402 Jackson St, Los Angeles, CA 90001</td>\n",
       "      <td>6</td>\n",
       "      <td>999.99</td>\n",
       "      <td>Los Angeles(CA)</td>\n",
       "      <td>20</td>\n",
       "      <td>18</td>\n",
       "    </tr>\n",
       "    <tr>\n",
       "      <th>3</th>\n",
       "      <td>209924</td>\n",
       "      <td>27in FHD Monitor</td>\n",
       "      <td>1</td>\n",
       "      <td>149.99</td>\n",
       "      <td>2019-06-05 10:21:00</td>\n",
       "      <td>560 10th St, Seattle, WA 98101</td>\n",
       "      <td>6</td>\n",
       "      <td>149.99</td>\n",
       "      <td>Seattle(WA)</td>\n",
       "      <td>10</td>\n",
       "      <td>21</td>\n",
       "    </tr>\n",
       "    <tr>\n",
       "      <th>4</th>\n",
       "      <td>209925</td>\n",
       "      <td>Bose SoundSport Headphones</td>\n",
       "      <td>1</td>\n",
       "      <td>99.99</td>\n",
       "      <td>2019-06-25 18:58:00</td>\n",
       "      <td>545 2nd St, San Francisco, CA 94016</td>\n",
       "      <td>6</td>\n",
       "      <td>99.99</td>\n",
       "      <td>San Francisco(CA)</td>\n",
       "      <td>18</td>\n",
       "      <td>58</td>\n",
       "    </tr>\n",
       "  </tbody>\n",
       "</table>\n",
       "</div>"
      ],
      "text/plain": [
       "  Order ID                     Product  Quantity Ordered  Price Each  \\\n",
       "0   209921        USB-C Charging Cable                 1       11.95   \n",
       "1   209922          Macbook Pro Laptop                 1     1700.00   \n",
       "2   209923             ThinkPad Laptop                 1      999.99   \n",
       "3   209924            27in FHD Monitor                 1      149.99   \n",
       "4   209925  Bose SoundSport Headphones                 1       99.99   \n",
       "\n",
       "           Order Date                       Purchase Address  Month    Sales  \\\n",
       "0 2019-06-23 19:34:00      950 Walnut St, Portland, ME 04101      6    11.95   \n",
       "1 2019-06-30 10:05:00     80 4th St, San Francisco, CA 94016      6  1700.00   \n",
       "2 2019-06-24 20:18:00  402 Jackson St, Los Angeles, CA 90001      6   999.99   \n",
       "3 2019-06-05 10:21:00         560 10th St, Seattle, WA 98101      6   149.99   \n",
       "4 2019-06-25 18:58:00    545 2nd St, San Francisco, CA 94016      6    99.99   \n",
       "\n",
       "                 City  Hour  Minute  \n",
       "0        Portland(ME)    19      34  \n",
       "1   San Francisco(CA)    10       5  \n",
       "2     Los Angeles(CA)    20      18  \n",
       "3         Seattle(WA)    10      21  \n",
       "4   San Francisco(CA)    18      58  "
      ]
     },
     "execution_count": 17,
     "metadata": {},
     "output_type": "execute_result"
    }
   ],
   "source": [
    "all_data['Hour'] = all_data['Order Date'].dt.hour\n",
    "all_data['Minute'] = all_data['Order Date'].dt.minute\n",
    "all_data.head()"
   ]
  },
  {
   "cell_type": "code",
   "execution_count": 22,
   "id": "7deaa368",
   "metadata": {},
   "outputs": [
    {
     "data": {
      "image/png": "[encoded data removed]",
      "text/plain": [
       "<Figure size 640x480 with 1 Axes>"
      ]
     },
     "metadata": {},
     "output_type": "display_data"
    }
   ],
   "source": [
    "hours = [hour for hour, df in all_data.groupby('Hour')]\n",
    "\n",
    "plt.plot(hours, all_data.groupby('Hour').count())\n",
    "plt.xlabel(\"hours\")\n",
    "plt.ylabel('number of sels')\n",
    "plt.xticks(hours)\n",
    "plt.grid()\n",
    "\n",
    "plt.show()"
   ]
  },
  {
   "cell_type": "markdown",
   "id": "9aad9d52",
   "metadata": {},
   "source": [
    "# TASK 5: what product sold the most"
   ]
  },
  {
   "cell_type": "code",
   "execution_count": 19,
   "id": "053009bb",
   "metadata": {},
   "outputs": [
    {
     "data": {
      "text/html": [
       "<div>\n",
       "<style scoped>\n",
       "    .dataframe tbody tr th:only-of-type {\n",
       "        vertical-align: middle;\n",
       "    }\n",
       "\n",
       "    .dataframe tbody tr th {\n",
       "        vertical-align: top;\n",
       "    }\n",
       "\n",
       "    .dataframe thead th {\n",
       "        text-align: right;\n",
       "    }\n",
       "</style>\n",
       "<table border=\"1\" class=\"dataframe\">\n",
       "  <thead>\n",
       "    <tr style=\"text-align: right;\">\n",
       "      <th></th>\n",
       "      <th>Order ID</th>\n",
       "      <th>Product</th>\n",
       "      <th>Quantity Ordered</th>\n",
       "      <th>Price Each</th>\n",
       "      <th>Order Date</th>\n",
       "      <th>Purchase Address</th>\n",
       "      <th>Month</th>\n",
       "      <th>Sales</th>\n",
       "      <th>City</th>\n",
       "      <th>Hour</th>\n",
       "      <th>Minute</th>\n",
       "    </tr>\n",
       "  </thead>\n",
       "  <tbody>\n",
       "    <tr>\n",
       "      <th>0</th>\n",
       "      <td>209921</td>\n",
       "      <td>USB-C Charging Cable</td>\n",
       "      <td>1</td>\n",
       "      <td>11.95</td>\n",
       "      <td>2019-06-23 19:34:00</td>\n",
       "      <td>950 Walnut St, Portland, ME 04101</td>\n",
       "      <td>6</td>\n",
       "      <td>11.95</td>\n",
       "      <td>Portland(ME)</td>\n",
       "      <td>19</td>\n",
       "      <td>34</td>\n",
       "    </tr>\n",
       "    <tr>\n",
       "      <th>1</th>\n",
       "      <td>209922</td>\n",
       "      <td>Macbook Pro Laptop</td>\n",
       "      <td>1</td>\n",
       "      <td>1700.00</td>\n",
       "      <td>2019-06-30 10:05:00</td>\n",
       "      <td>80 4th St, San Francisco, CA 94016</td>\n",
       "      <td>6</td>\n",
       "      <td>1700.00</td>\n",
       "      <td>San Francisco(CA)</td>\n",
       "      <td>10</td>\n",
       "      <td>5</td>\n",
       "    </tr>\n",
       "    <tr>\n",
       "      <th>2</th>\n",
       "      <td>209923</td>\n",
       "      <td>ThinkPad Laptop</td>\n",
       "      <td>1</td>\n",
       "      <td>999.99</td>\n",
       "      <td>2019-06-24 20:18:00</td>\n",
       "      <td>402 Jackson St, Los Angeles, CA 90001</td>\n",
       "      <td>6</td>\n",
       "      <td>999.99</td>\n",
       "      <td>Los Angeles(CA)</td>\n",
       "      <td>20</td>\n",
       "      <td>18</td>\n",
       "    </tr>\n",
       "    <tr>\n",
       "      <th>3</th>\n",
       "      <td>209924</td>\n",
       "      <td>27in FHD Monitor</td>\n",
       "      <td>1</td>\n",
       "      <td>149.99</td>\n",
       "      <td>2019-06-05 10:21:00</td>\n",
       "      <td>560 10th St, Seattle, WA 98101</td>\n",
       "      <td>6</td>\n",
       "      <td>149.99</td>\n",
       "      <td>Seattle(WA)</td>\n",
       "      <td>10</td>\n",
       "      <td>21</td>\n",
       "    </tr>\n",
       "    <tr>\n",
       "      <th>4</th>\n",
       "      <td>209925</td>\n",
       "      <td>Bose SoundSport Headphones</td>\n",
       "      <td>1</td>\n",
       "      <td>99.99</td>\n",
       "      <td>2019-06-25 18:58:00</td>\n",
       "      <td>545 2nd St, San Francisco, CA 94016</td>\n",
       "      <td>6</td>\n",
       "      <td>99.99</td>\n",
       "      <td>San Francisco(CA)</td>\n",
       "      <td>18</td>\n",
       "      <td>58</td>\n",
       "    </tr>\n",
       "  </tbody>\n",
       "</table>\n",
       "</div>"
      ],
      "text/plain": [
       "  Order ID                     Product  Quantity Ordered  Price Each  \\\n",
       "0   209921        USB-C Charging Cable                 1       11.95   \n",
       "1   209922          Macbook Pro Laptop                 1     1700.00   \n",
       "2   209923             ThinkPad Laptop                 1      999.99   \n",
       "3   209924            27in FHD Monitor                 1      149.99   \n",
       "4   209925  Bose SoundSport Headphones                 1       99.99   \n",
       "\n",
       "           Order Date                       Purchase Address  Month    Sales  \\\n",
       "0 2019-06-23 19:34:00      950 Walnut St, Portland, ME 04101      6    11.95   \n",
       "1 2019-06-30 10:05:00     80 4th St, San Francisco, CA 94016      6  1700.00   \n",
       "2 2019-06-24 20:18:00  402 Jackson St, Los Angeles, CA 90001      6   999.99   \n",
       "3 2019-06-05 10:21:00         560 10th St, Seattle, WA 98101      6   149.99   \n",
       "4 2019-06-25 18:58:00    545 2nd St, San Francisco, CA 94016      6    99.99   \n",
       "\n",
       "                 City  Hour  Minute  \n",
       "0        Portland(ME)    19      34  \n",
       "1   San Francisco(CA)    10       5  \n",
       "2     Los Angeles(CA)    20      18  \n",
       "3         Seattle(WA)    10      21  \n",
       "4   San Francisco(CA)    18      58  "
      ]
     },
     "execution_count": 19,
     "metadata": {},
     "output_type": "execute_result"
    }
   ],
   "source": [
    "all_data.head()"
   ]
  },
  {
   "cell_type": "code",
   "execution_count": 28,
   "id": "95cc4f83",
   "metadata": {},
   "outputs": [
    {
     "name": "stderr",
     "output_type": "stream",
     "text": [
      "/var/folders/vc/3fbsdlsd04b7nplvx9m1rhcw0000gn/T/ipykernel_66591/2148245946.py:1: FutureWarning: The default value of numeric_only in DataFrameGroupBy.sum is deprecated. In a future version, numeric_only will default to False. Either specify numeric_only or select only columns which should be valid for the function.\n",
      "  sales = all_data.groupby('Product').sum()['Quantity Ordered']\n"
     ]
    }
   ],
   "source": [
    "sales = all_data.groupby('Product').sum()['Quantity Ordered']\n"
   ]
  },
  {
   "cell_type": "code",
   "execution_count": 31,
   "id": "5f3ddc21",
   "metadata": {},
   "outputs": [
    {
     "data": {
      "image/png": "[encoded data removed]",
      "text/plain": [
       "<Figure size 640x480 with 1 Axes>"
      ]
     },
     "metadata": {},
     "output_type": "display_data"
    }
   ],
   "source": [
    "products = [type for type, df in all_data.groupby('Product')]\n",
    "plt.bar(products, sales)\n",
    "plt.xticks(types, rotation='vertical', size=7)\n",
    "plt.ylabel('number of sales')\n",
    "plt.xlabel('product')\n",
    "plt.show()"
   ]
  },
  {
   "cell_type": "code",
   "execution_count": 29,
   "id": "00981be4",
   "metadata": {},
   "outputs": [
    {
     "name": "stderr",
     "output_type": "stream",
     "text": [
      "/var/folders/vc/3fbsdlsd04b7nplvx9m1rhcw0000gn/T/ipykernel_66591/2728660684.py:1: FutureWarning: The default value of numeric_only in DataFrameGroupBy.mean is deprecated. In a future version, numeric_only will default to False. Either specify numeric_only or select only columns which should be valid for the function.\n",
      "  prices = all_data.groupby('Product').mean()['Price Each']\n"
     ]
    }
   ],
   "source": [
    "prices = all_data.groupby('Product').mean()['Price Each']\n"
   ]
  },
  {
   "cell_type": "code",
   "execution_count": 45,
   "id": "e90fcd30",
   "metadata": {},
   "outputs": [
    {
     "name": "stderr",
     "output_type": "stream",
     "text": [
      "/var/folders/vc/3fbsdlsd04b7nplvx9m1rhcw0000gn/T/ipykernel_66591/1245341848.py:7: UserWarning: FixedFormatter should only be used together with FixedLocator\n",
      "  ax1.set_xticklabels(products, rotation='vertical', size='7')\n"
     ]
    },
    {
     "data": {
      "image/png": "[encoded data removed]",
      "text/plain": [
       "<Figure size 640x480 with 2 Axes>"
      ]
     },
     "metadata": {},
     "output_type": "display_data"
    }
   ],
   "source": [
    "fig, ax1 = plt.subplots()\n",
    "\n",
    "ax2 = ax1.twinx()\n",
    "ax1.bar(products, sales, color='g')\n",
    "ax2.plot(products, prices, 'b-')\n",
    "\n",
    "ax1.set_xticklabels(products, rotation='vertical', size='7')\n",
    "ax1.set_xlabel('product')\n",
    "ax1.set_ylabel('sales', color='g')\n",
    "ax2.set_ylabel('prices', color='b')\n",
    "\n",
    "plt.show()"
   ]
  },
  {
   "cell_type": "code",
   "execution_count": null,
   "id": "c2201a7d",
   "metadata": {},
   "outputs": [],
   "source": []
  }
 ],
 "metadata": {
  "kernelspec": {
   "display_name": "Python 3 (ipykernel)",
   "language": "python",
   "name": "python3"
  },
  "language_info": {
   "codemirror_mode": {
    "name": "ipython",
    "version": 3
   },
   "file_extension": ".py",
   "mimetype": "text/x-python",
   "name": "python",
   "nbconvert_exporter": "python",
   "pygments_lexer": "ipython3",
   "version": "3.11.0"
  }
 },
 "nbformat": 4,
 "nbformat_minor": 5
}
